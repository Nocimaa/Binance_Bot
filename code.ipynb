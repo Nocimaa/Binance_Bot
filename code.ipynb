{
 "cells": [
  {
   "cell_type": "markdown",
   "id": "fc74013e",
   "metadata": {
    "id": "view-in-github",
    "papermill": {
     "duration": 0.005041,
     "end_time": "2025-09-19T12:43:09.500067",
     "exception": false,
     "start_time": "2025-09-19T12:43:09.495026",
     "status": "completed"
    },
    "tags": []
   },
   "source": [
    "<a href=\"https://colab.research.google.com/github/Nocimaa/Binance_Bot/blob/main/code.ipynb\" target=\"_parent\"><img src=\"https://colab.research.google.com/assets/colab-badge.svg\" alt=\"Open In Colab\"/></a>"
   ]
  },
  {
   "cell_type": "code",
   "execution_count": 1,
   "id": "7eb6e73f",
   "metadata": {
    "execution": {
     "iopub.execute_input": "2025-09-19T12:43:09.510430Z",
     "iopub.status.busy": "2025-09-19T12:43:09.509864Z",
     "iopub.status.idle": "2025-09-19T12:43:10.688099Z",
     "shell.execute_reply": "2025-09-19T12:43:10.687315Z"
    },
    "id": "2oiTAtF6gJgf",
    "outputId": "e693ffd2-78cc-4ba5-f53a-4f4cb4214b17",
    "papermill": {
     "duration": 1.184321,
     "end_time": "2025-09-19T12:43:10.689382",
     "exception": false,
     "start_time": "2025-09-19T12:43:09.505061",
     "status": "completed"
    },
    "tags": []
   },
   "outputs": [
    {
     "name": "stdout",
     "output_type": "stream",
     "text": [
      "--2025-09-19 12:43:09--  https://raw.githubusercontent.com/Nocimaa/Binance_Bot/refs/heads/main/btc_1h_adx_2017-08-17_to_2025-09-17(in).csv\r\n",
      "Resolving raw.githubusercontent.com (raw.githubusercontent.com)... 185.199.109.133, 185.199.108.133, 185.199.111.133, ...\r\n",
      "Connecting to raw.githubusercontent.com (raw.githubusercontent.com)|185.199.109.133|:443... connected.\r\n",
      "HTTP request sent, awaiting response... 200 OK\r\n",
      "Length: 28620838 (27M) [text/plain]\r\n",
      "Saving to: ‘btc_1h_adx_2017-08-17_to_2025-09-17(in).csv’\r\n",
      "\r\n",
      "btc_1h_adx_2017-08- 100%[===================>]  27.29M  --.-KB/s    in 0.1s    \r\n",
      "\r\n",
      "2025-09-19 12:43:10 (284 MB/s) - ‘btc_1h_adx_2017-08-17_to_2025-09-17(in).csv’ saved [28620838/28620838]\r\n",
      "\r\n"
     ]
    }
   ],
   "source": [
    "!wget \"https://raw.githubusercontent.com/Nocimaa/Binance_Bot/refs/heads/main/btc_1h_adx_2017-08-17_to_2025-09-17(in).csv\""
   ]
  },
  {
   "cell_type": "code",
   "execution_count": 2,
   "id": "04861dce",
   "metadata": {
    "execution": {
     "iopub.execute_input": "2025-09-19T12:43:10.697900Z",
     "iopub.status.busy": "2025-09-19T12:43:10.697653Z",
     "iopub.status.idle": "2025-09-19T12:43:12.193107Z",
     "shell.execute_reply": "2025-09-19T12:43:12.192526Z"
    },
    "id": "en6-eWhqgiaB",
    "papermill": {
     "duration": 1.501246,
     "end_time": "2025-09-19T12:43:12.194553",
     "exception": false,
     "start_time": "2025-09-19T12:43:10.693307",
     "status": "completed"
    },
    "tags": []
   },
   "outputs": [],
   "source": [
    "import pandas as pd\n",
    "import numpy as np\n",
    "\n",
    "#Test"
   ]
  },
  {
   "cell_type": "code",
   "execution_count": 3,
   "id": "a0dceb42",
   "metadata": {
    "execution": {
     "iopub.execute_input": "2025-09-19T12:43:12.202930Z",
     "iopub.status.busy": "2025-09-19T12:43:12.202559Z",
     "iopub.status.idle": "2025-09-19T12:43:12.939197Z",
     "shell.execute_reply": "2025-09-19T12:43:12.938430Z"
    },
    "id": "zmOryAAwgtC7",
    "outputId": "29aa80b5-93e8-4632-c390-72cd2f0624bc",
    "papermill": {
     "duration": 0.742103,
     "end_time": "2025-09-19T12:43:12.940450",
     "exception": false,
     "start_time": "2025-09-19T12:43:12.198347",
     "status": "completed"
    },
    "tags": []
   },
   "outputs": [
    {
     "name": "stderr",
     "output_type": "stream",
     "text": [
      "/tmp/ipykernel_19/3276618716.py:14: SettingWithCopyWarning: \n",
      "A value is trying to be set on a copy of a slice from a DataFrame.\n",
      "Try using .loc[row_indexer,col_indexer] = value instead\n",
      "\n",
      "See the caveats in the documentation: https://pandas.pydata.org/pandas-docs/stable/user_guide/indexing.html#returning-a-view-versus-a-copy\n",
      "  df[\"label\"] = [\n"
     ]
    }
   ],
   "source": [
    "base = pd.read_csv(\"btc_1h_adx_2017-08-17_to_2025-09-17(in).csv\")\n",
    "\n",
    "df = base[base[\"timestamp\"] < \"2025-09-01 00:00:00+02:00\"]\n",
    "predict_df = base[base[\"timestamp\"] >= \"2025-09-01 00:00:00+02:00\"]\n",
    "\n",
    "def max_log_return(close, high, low):\n",
    "    log_high = np.log(high / close)\n",
    "    log_low = np.log(low / close)\n",
    "    return log_high if abs(log_high) > abs(log_low) else log_low\n",
    "\n",
    "def preprocessing(df, index_label=True):\n",
    "  if index_label:\n",
    "    # df[\"label\"] = np.log()\n",
    "    df[\"label\"] = [\n",
    "      max_log_return(c, h, l)\n",
    "      for c, h, l in zip(df[\"close\"], df[\"high\"].shift(-1), df[\"low\"].shift(-1))\n",
    "    ]\n",
    "  df = df.drop(\"timestamp\", axis=1)\n",
    "  # df = df.drop(\"close\", axis=1)\n",
    "\n",
    "\n",
    "  features = [\"open\",\"high\",\"low\",\"close\",\"volume\",\"ATR14\",\"MACD\"]\n",
    "  window = 10\n",
    "  for f in features:\n",
    "      for w in range(1, window+1):\n",
    "          df[f\"{f}_lag{w}\"] = df[f].shift(w)\n",
    "\n",
    "\n",
    "  df.dropna(inplace=True)\n",
    "  return df\n",
    "\n",
    "df = preprocessing(df)\n",
    "predict_df = preprocessing(predict_df, index_label=False)"
   ]
  },
  {
   "cell_type": "code",
   "execution_count": 4,
   "id": "eaee60c7",
   "metadata": {
    "execution": {
     "iopub.execute_input": "2025-09-19T12:43:12.948374Z",
     "iopub.status.busy": "2025-09-19T12:43:12.948129Z",
     "iopub.status.idle": "2025-09-19T12:43:12.955258Z",
     "shell.execute_reply": "2025-09-19T12:43:12.954560Z"
    },
    "id": "y1U0Miu7gw_b",
    "outputId": "36e1650d-0aac-4c49-c858-799cdc10fbb3",
    "papermill": {
     "duration": 0.012535,
     "end_time": "2025-09-19T12:43:12.956616",
     "exception": false,
     "start_time": "2025-09-19T12:43:12.944081",
     "status": "completed"
    },
    "tags": []
   },
   "outputs": [
    {
     "data": {
      "text/plain": [
       "10      -0.024551\n",
       "11       0.030981\n",
       "12      -0.019319\n",
       "13       0.011229\n",
       "14      -0.007572\n",
       "           ...   \n",
       "70249    0.000652\n",
       "70250    0.002233\n",
       "70251   -0.002113\n",
       "70252    0.001724\n",
       "70253   -0.001475\n",
       "Name: label, Length: 70244, dtype: float64"
      ]
     },
     "execution_count": 4,
     "metadata": {},
     "output_type": "execute_result"
    }
   ],
   "source": [
    "df.head()\n",
    "df[\"label\"]"
   ]
  },
  {
   "cell_type": "code",
   "execution_count": 5,
   "id": "9250b6bf",
   "metadata": {
    "execution": {
     "iopub.execute_input": "2025-09-19T12:43:12.964605Z",
     "iopub.status.busy": "2025-09-19T12:43:12.964420Z",
     "iopub.status.idle": "2025-09-19T12:43:13.044411Z",
     "shell.execute_reply": "2025-09-19T12:43:13.043825Z"
    },
    "id": "P16J24ChiDe9",
    "papermill": {
     "duration": 0.08555,
     "end_time": "2025-09-19T12:43:13.045767",
     "exception": false,
     "start_time": "2025-09-19T12:43:12.960217",
     "status": "completed"
    },
    "tags": []
   },
   "outputs": [],
   "source": [
    "y = df[\"label\"]\n",
    "X = df.drop(\"label\", axis=1)"
   ]
  },
  {
   "cell_type": "code",
   "execution_count": 6,
   "id": "8eee17a1",
   "metadata": {
    "execution": {
     "iopub.execute_input": "2025-09-19T12:43:13.054194Z",
     "iopub.status.busy": "2025-09-19T12:43:13.054013Z",
     "iopub.status.idle": "2025-09-19T12:43:14.808542Z",
     "shell.execute_reply": "2025-09-19T12:43:14.807895Z"
    },
    "id": "6TOXhziajFuL",
    "papermill": {
     "duration": 1.760363,
     "end_time": "2025-09-19T12:43:14.810019",
     "exception": false,
     "start_time": "2025-09-19T12:43:13.049656",
     "status": "completed"
    },
    "tags": []
   },
   "outputs": [],
   "source": [
    "from sklearn.feature_selection import SelectKBest, f_regression\n",
    "from sklearn.preprocessing import StandardScaler\n",
    "\n",
    "k = 30\n",
    "selector = SelectKBest(score_func=f_regression, k=k)\n",
    "X_new = selector.fit_transform(X, y)\n",
    "\n",
    "scaler = StandardScaler()\n",
    "X_new = scaler.fit_transform(X_new)"
   ]
  },
  {
   "cell_type": "code",
   "execution_count": 7,
   "id": "d1807820",
   "metadata": {
    "execution": {
     "iopub.execute_input": "2025-09-19T12:43:14.819965Z",
     "iopub.status.busy": "2025-09-19T12:43:14.819216Z",
     "iopub.status.idle": "2025-09-19T12:43:14.847301Z",
     "shell.execute_reply": "2025-09-19T12:43:14.846713Z"
    },
    "id": "zdUb3aTujKqj",
    "papermill": {
     "duration": 0.034343,
     "end_time": "2025-09-19T12:43:14.848688",
     "exception": false,
     "start_time": "2025-09-19T12:43:14.814345",
     "status": "completed"
    },
    "tags": []
   },
   "outputs": [],
   "source": [
    "from sklearn.model_selection import train_test_split\n",
    "\n",
    "X_train, X_test, y_train, y_test = train_test_split(X_new, y, test_size=0.2, random_state=42)"
   ]
  },
  {
   "cell_type": "code",
   "execution_count": 8,
   "id": "2e086e8d",
   "metadata": {
    "execution": {
     "iopub.execute_input": "2025-09-19T12:43:14.858224Z",
     "iopub.status.busy": "2025-09-19T12:43:14.857679Z",
     "iopub.status.idle": "2025-09-19T12:43:20.244171Z",
     "shell.execute_reply": "2025-09-19T12:43:20.243335Z"
    },
    "id": "B9A7VhBZj5ty",
    "papermill": {
     "duration": 5.392358,
     "end_time": "2025-09-19T12:43:20.245754",
     "exception": false,
     "start_time": "2025-09-19T12:43:14.853396",
     "status": "completed"
    },
    "tags": []
   },
   "outputs": [],
   "source": [
    "import torch\n",
    "device = torch.device(\"cuda\" if torch.cuda.is_available() else \"cpu\")\n",
    "\n",
    "\n",
    "\n",
    "def create_sequences(X, y, seq_len=50):\n",
    "    Xs, ys = [], []\n",
    "    for i in range(len(X) - seq_len):\n",
    "        Xs.append(X[i:i+seq_len])\n",
    "        ys.append(y[i+seq_len])\n",
    "    return np.array(Xs), np.array(ys)\n",
    "\n",
    "\n",
    "y_scaler = StandardScaler()\n",
    "y_train_scaled = y_scaler.fit_transform(y_train.values.reshape(-1,1))\n",
    "y_test_scaled  = y_scaler.transform(y_test.values.reshape(-1,1))\n",
    "\n",
    "seq_len = 20  # tu peux ajuster\n",
    "\n",
    "X_train_seq, y_train_seq = create_sequences(X_train, y_train_scaled, seq_len)\n",
    "X_test_seq, y_test_seq   = create_sequences(X_test,  y_test_scaled,  seq_len)\n",
    "\n",
    "\n",
    "X_train_tensor = torch.tensor(X_train_seq, dtype=torch.float32).to(device)\n",
    "y_train_tensor = torch.tensor(y_train_seq, dtype=torch.float32).to(device)\n",
    "\n",
    "X_test_tensor  = torch.tensor(X_test_seq, dtype=torch.float32).to(device)\n",
    "y_test_tensor  = torch.tensor(y_test_seq, dtype=torch.float32).to(device)"
   ]
  },
  {
   "cell_type": "code",
   "execution_count": 9,
   "id": "d4f0d5d4",
   "metadata": {
    "execution": {
     "iopub.execute_input": "2025-09-19T12:43:20.254205Z",
     "iopub.status.busy": "2025-09-19T12:43:20.253843Z",
     "iopub.status.idle": "2025-09-19T12:43:20.376163Z",
     "shell.execute_reply": "2025-09-19T12:43:20.375440Z"
    },
    "id": "aygb4S84j-de",
    "papermill": {
     "duration": 0.127834,
     "end_time": "2025-09-19T12:43:20.377452",
     "exception": false,
     "start_time": "2025-09-19T12:43:20.249618",
     "status": "completed"
    },
    "tags": []
   },
   "outputs": [],
   "source": [
    "import torch.nn as nn\n",
    "import torch.nn.functional as F\n",
    "import torch.optim as optim\n",
    "\n",
    "class LSTMNet(nn.Module):\n",
    "    def __init__(self, input_dim, hidden_dim=64, num_layers=3, dropout=0.25):\n",
    "        super().__init__()\n",
    "        self.hidden_dim = hidden_dim\n",
    "        self.num_layers = num_layers\n",
    "\n",
    "        # LSTM empilé\n",
    "        self.lstm = nn.LSTM(\n",
    "            input_dim,\n",
    "            hidden_dim,\n",
    "            num_layers=num_layers,\n",
    "            batch_first=True,\n",
    "            dropout=dropout\n",
    "        )\n",
    "\n",
    "        # Normalisation + Fully Connected\n",
    "        self.bn = nn.BatchNorm1d(hidden_dim)\n",
    "        self.fc1 = nn.Linear(hidden_dim, 64)\n",
    "        self.fc2 = nn.Linear(64, 1)\n",
    "        self.dropout = nn.Dropout(dropout)\n",
    "\n",
    "    def forward(self, x):\n",
    "        # x: (batch, seq_len, input_dim\n",
    "\n",
    "        out, _ = self.lstm(x)  # out: (batch, seq_len, hidden_dim)\n",
    "        out = out[:, -1, :]    # garder le dernier état\n",
    "        out = self.bn(out)\n",
    "        out = F.relu(self.fc1(out))\n",
    "        out = self.dropout(out)\n",
    "        return self.fc2(out)\n",
    "\n",
    "\n",
    "model = LSTMNet(input_dim=k)\n",
    "model = model.to(device)"
   ]
  },
  {
   "cell_type": "code",
   "execution_count": 10,
   "id": "89e8ce66",
   "metadata": {
    "execution": {
     "iopub.execute_input": "2025-09-19T12:43:20.385425Z",
     "iopub.status.busy": "2025-09-19T12:43:20.385191Z",
     "iopub.status.idle": "2025-09-19T12:43:25.199257Z",
     "shell.execute_reply": "2025-09-19T12:43:25.198643Z"
    },
    "id": "zsVOmjhEkKJH",
    "papermill": {
     "duration": 4.819539,
     "end_time": "2025-09-19T12:43:25.200662",
     "exception": false,
     "start_time": "2025-09-19T12:43:20.381123",
     "status": "completed"
    },
    "tags": []
   },
   "outputs": [],
   "source": [
    "criterion = nn.SmoothL1Loss()\n",
    "optimizer = optim.Adam(model.parameters(), lr=0.001)\n",
    "\n",
    "epochs = 100\n",
    "batch_size = 256"
   ]
  },
  {
   "cell_type": "code",
   "execution_count": 11,
   "id": "12db29cf",
   "metadata": {
    "execution": {
     "iopub.execute_input": "2025-09-19T12:43:25.209281Z",
     "iopub.status.busy": "2025-09-19T12:43:25.208744Z",
     "iopub.status.idle": "2025-09-19T12:45:18.437244Z",
     "shell.execute_reply": "2025-09-19T12:45:18.436424Z"
    },
    "id": "f4vTCmLskcR7",
    "outputId": "4d76a5f1-f6cf-41b7-e3a9-6433283462aa",
    "papermill": {
     "duration": 113.23391,
     "end_time": "2025-09-19T12:45:18.438479",
     "exception": false,
     "start_time": "2025-09-19T12:43:25.204569",
     "status": "completed"
    },
    "tags": []
   },
   "outputs": [
    {
     "name": "stdout",
     "output_type": "stream",
     "text": [
      "Epoch 1/100, Train MSE=0.3282\n",
      "Epoch 2/100, Train MSE=0.3281\n",
      "Epoch 3/100, Train MSE=0.3279\n",
      "Epoch 4/100, Train MSE=0.3278\n",
      "Epoch 5/100, Train MSE=0.3278\n",
      "Epoch 6/100, Train MSE=0.3278\n",
      "Epoch 7/100, Train MSE=0.3276\n",
      "Epoch 8/100, Train MSE=0.3277\n",
      "Epoch 9/100, Train MSE=0.3276\n",
      "Epoch 10/100, Train MSE=0.3276\n",
      "Epoch 11/100, Train MSE=0.3274\n",
      "Epoch 12/100, Train MSE=0.3273\n",
      "Epoch 13/100, Train MSE=0.3271\n",
      "Epoch 14/100, Train MSE=0.3267\n",
      "Epoch 15/100, Train MSE=0.3264\n",
      "Epoch 16/100, Train MSE=0.3259\n",
      "Epoch 17/100, Train MSE=0.3254\n",
      "Epoch 18/100, Train MSE=0.3237\n",
      "Epoch 19/100, Train MSE=0.3236\n",
      "Epoch 20/100, Train MSE=0.3223\n",
      "Epoch 21/100, Train MSE=0.3228\n",
      "Epoch 22/100, Train MSE=0.3208\n",
      "Epoch 23/100, Train MSE=0.3187\n",
      "Epoch 24/100, Train MSE=0.3182\n",
      "Epoch 25/100, Train MSE=0.3161\n",
      "Epoch 26/100, Train MSE=0.3156\n",
      "Epoch 27/100, Train MSE=0.3146\n",
      "Epoch 28/100, Train MSE=0.3115\n",
      "Epoch 29/100, Train MSE=0.3100\n",
      "Epoch 30/100, Train MSE=0.3083\n",
      "Epoch 31/100, Train MSE=0.3067\n",
      "Epoch 32/100, Train MSE=0.3064\n",
      "Epoch 33/100, Train MSE=0.3040\n",
      "Epoch 34/100, Train MSE=0.3020\n",
      "Epoch 35/100, Train MSE=0.2991\n",
      "Epoch 36/100, Train MSE=0.2982\n",
      "Epoch 37/100, Train MSE=0.2970\n",
      "Epoch 38/100, Train MSE=0.2939\n",
      "Epoch 39/100, Train MSE=0.2938\n",
      "Epoch 40/100, Train MSE=0.2923\n",
      "Epoch 41/100, Train MSE=0.2889\n",
      "Epoch 42/100, Train MSE=0.2879\n",
      "Epoch 43/100, Train MSE=0.2854\n",
      "Epoch 44/100, Train MSE=0.2853\n",
      "Epoch 45/100, Train MSE=0.2819\n",
      "Epoch 46/100, Train MSE=0.2805\n",
      "Epoch 47/100, Train MSE=0.2770\n",
      "Epoch 48/100, Train MSE=0.2751\n",
      "Epoch 49/100, Train MSE=0.2742\n",
      "Epoch 50/100, Train MSE=0.2736\n",
      "Epoch 51/100, Train MSE=0.2748\n",
      "Epoch 52/100, Train MSE=0.2682\n",
      "Epoch 53/100, Train MSE=0.2689\n",
      "Epoch 54/100, Train MSE=0.2636\n",
      "Epoch 55/100, Train MSE=0.2629\n",
      "Epoch 56/100, Train MSE=0.2627\n",
      "Epoch 57/100, Train MSE=0.2610\n",
      "Epoch 58/100, Train MSE=0.2617\n",
      "Epoch 59/100, Train MSE=0.2556\n",
      "Epoch 60/100, Train MSE=0.2573\n",
      "Epoch 61/100, Train MSE=0.2580\n",
      "Epoch 62/100, Train MSE=0.2516\n",
      "Epoch 63/100, Train MSE=0.2515\n",
      "Epoch 64/100, Train MSE=0.2482\n",
      "Epoch 65/100, Train MSE=0.2466\n",
      "Epoch 66/100, Train MSE=0.2467\n",
      "Epoch 67/100, Train MSE=0.2459\n",
      "Epoch 68/100, Train MSE=0.2425\n",
      "Epoch 69/100, Train MSE=0.2419\n",
      "Epoch 70/100, Train MSE=0.2403\n",
      "Epoch 71/100, Train MSE=0.2368\n",
      "Epoch 72/100, Train MSE=0.2372\n",
      "Epoch 73/100, Train MSE=0.2375\n",
      "Epoch 74/100, Train MSE=0.2346\n",
      "Epoch 75/100, Train MSE=0.2325\n",
      "Epoch 76/100, Train MSE=0.2334\n",
      "Epoch 77/100, Train MSE=0.2271\n",
      "Epoch 78/100, Train MSE=0.2298\n",
      "Epoch 79/100, Train MSE=0.2242\n",
      "Epoch 80/100, Train MSE=0.2249\n",
      "Epoch 81/100, Train MSE=0.2258\n",
      "Epoch 82/100, Train MSE=0.2232\n",
      "Epoch 83/100, Train MSE=0.2205\n",
      "Epoch 84/100, Train MSE=0.2200\n",
      "Epoch 85/100, Train MSE=0.2172\n",
      "Epoch 86/100, Train MSE=0.2200\n",
      "Epoch 87/100, Train MSE=0.2194\n",
      "Epoch 88/100, Train MSE=0.2146\n",
      "Epoch 89/100, Train MSE=0.2120\n",
      "Epoch 90/100, Train MSE=0.2123\n",
      "Epoch 91/100, Train MSE=0.2144\n",
      "Epoch 92/100, Train MSE=0.2116\n",
      "Epoch 93/100, Train MSE=0.2100\n",
      "Epoch 94/100, Train MSE=0.2056\n",
      "Epoch 95/100, Train MSE=0.2089\n",
      "Epoch 96/100, Train MSE=0.2056\n",
      "Epoch 97/100, Train MSE=0.2040\n",
      "Epoch 98/100, Train MSE=0.2043\n",
      "Epoch 99/100, Train MSE=0.2009\n",
      "Epoch 100/100, Train MSE=0.2028\n"
     ]
    }
   ],
   "source": [
    "gradScaler = torch.amp.GradScaler() \n",
    "\n",
    "\n",
    "for epoch in range(epochs):\n",
    "    permutation = torch.randperm(X_train_tensor.size(0))\n",
    "    model.train()\n",
    "    \n",
    "    for i in range(0, X_train_tensor.size(0), batch_size):\n",
    "        indices = permutation[i:i+batch_size]\n",
    "        batch_x, batch_y = X_train_tensor[indices], y_train_tensor[indices]\n",
    "\n",
    "        # Déplacer les batchs sur le device\n",
    "        batch_x, batch_y = batch_x.to(device), batch_y.to(device)\n",
    "\n",
    "        optimizer.zero_grad()\n",
    "\n",
    "        # Mixed precision\n",
    "        with torch.amp.autocast('cuda'):\n",
    "            outputs = model(batch_x)\n",
    "            loss = criterion(outputs, batch_y)\n",
    "\n",
    "        # Backprop avec GradScaler\n",
    "        gradScaler.scale(loss).backward()\n",
    "\n",
    "        # Gradient clipping (optionnel)\n",
    "        #torch.nn.utils.clip_grad_norm_(model.parameters(), max_norm=1.0)\n",
    "\n",
    "        gradScaler.step(optimizer)\n",
    "        gradScaler.update()\n",
    "\n",
    "        # Libération mémoire intermédiaire\n",
    "        del outputs, loss, batch_x, batch_y\n",
    "        if device == \"cuda\":\n",
    "            torch.cuda.empty_cache()\n",
    "\n",
    "    # Évaluation train\n",
    "    model.eval()\n",
    "    with torch.no_grad():\n",
    "        X_train_device = X_train_tensor.to(device)\n",
    "        y_train_device = y_train_tensor.to(device)\n",
    "        preds = model(X_train_device)\n",
    "        mse = criterion(preds, y_train_device).item()\n",
    "\n",
    "    print(f\"Epoch {epoch+1}/{epochs}, Train MSE={mse:.4f}\")"
   ]
  },
  {
   "cell_type": "code",
   "execution_count": 12,
   "id": "4594d271",
   "metadata": {
    "execution": {
     "iopub.execute_input": "2025-09-19T12:45:18.453925Z",
     "iopub.status.busy": "2025-09-19T12:45:18.453536Z",
     "iopub.status.idle": "2025-09-19T12:45:18.494140Z",
     "shell.execute_reply": "2025-09-19T12:45:18.493485Z"
    },
    "id": "mVPjeLlBk8Ft",
    "outputId": "99ca7e40-db29-4a84-a6b7-c8ded8cdf159",
    "papermill": {
     "duration": 0.049435,
     "end_time": "2025-09-19T12:45:18.495309",
     "exception": false,
     "start_time": "2025-09-19T12:45:18.445874",
     "status": "completed"
    },
    "tags": []
   },
   "outputs": [
    {
     "name": "stdout",
     "output_type": "stream",
     "text": [
      "\n",
      "Test MSE (original scale) = 0.0002\n",
      "Test RMSE (original scale) = 0.0127\n",
      "Test MAE (original scale)  = 0.0087\n"
     ]
    }
   ],
   "source": [
    "from sklearn.metrics import mean_squared_error, mean_absolute_error\n",
    "import numpy as np\n",
    "import torch\n",
    "\n",
    "with torch.no_grad():\n",
    "    # prédictions sur GPU\n",
    "    preds = model(X_test_tensor)\n",
    "\n",
    "    # ramener sur CPU avant conversion en numpy\n",
    "    preds_cpu = preds.cpu().numpy()\n",
    "    y_true_cpu = y_test_tensor.cpu().numpy()\n",
    "\n",
    "    # si tu as utilisé un scaler pour y\n",
    "    preds_orig = y_scaler.inverse_transform(preds_cpu)\n",
    "    y_true_orig = y_scaler.inverse_transform(y_true_cpu)\n",
    "\n",
    "    # calcul métriques\n",
    "    from sklearn.metrics import mean_squared_error, mean_absolute_error\n",
    "    import numpy as np\n",
    "\n",
    "    mse_test = mean_squared_error(y_true_orig, preds_orig)\n",
    "    rmse_test = np.sqrt(mse_test)\n",
    "    mae_test = mean_absolute_error(y_true_orig, preds_orig)\n",
    "\n",
    "print(f\"\\nTest MSE (original scale) = {mse_test:.4f}\")\n",
    "print(f\"Test RMSE (original scale) = {rmse_test:.4f}\")\n",
    "print(f\"Test MAE (original scale)  = {mae_test:.4f}\")\n",
    "\n"
   ]
  },
  {
   "cell_type": "code",
   "execution_count": 13,
   "id": "98814102",
   "metadata": {
    "execution": {
     "iopub.execute_input": "2025-09-19T12:45:18.511088Z",
     "iopub.status.busy": "2025-09-19T12:45:18.510845Z",
     "iopub.status.idle": "2025-09-19T12:45:18.549139Z",
     "shell.execute_reply": "2025-09-19T12:45:18.548495Z"
    },
    "id": "Zifd7Mo5q_nf",
    "outputId": "0991fe8e-52e8-4548-c4cc-f446e2460ee9",
    "papermill": {
     "duration": 0.047424,
     "end_time": "2025-09-19T12:45:18.550238",
     "exception": false,
     "start_time": "2025-09-19T12:45:18.502814",
     "status": "completed"
    },
    "tags": []
   },
   "outputs": [
    {
     "name": "stdout",
     "output_type": "stream",
     "text": [
      "Prédiction: 0.000774247688241303\n"
     ]
    }
   ],
   "source": [
    "def predict_new_row(seq_rows, model, selector, scaler_X, scaler_y, feature_columns, device='cpu'):\n",
    "    \"\"\"\n",
    "    Prédit le label à partir d'une séquence de nouvelles données (LSTM).\n",
    "\n",
    "    Args:\n",
    "        seq_rows (list[pd.Series] ou pd.DataFrame): séquence de lignes (longueur = seq_len)\n",
    "        model (torch.nn.Module): modèle PyTorch déjà entraîné\n",
    "        selector (sklearn transformer): SelectKBest ou autre\n",
    "        scaler_X (StandardScaler): scaler pour X\n",
    "        scaler_y (StandardScaler): scaler pour y\n",
    "        feature_columns (list): noms des colonnes/features utilisées\n",
    "        device (str): 'cpu' ou 'cuda'\n",
    "\n",
    "    Returns:\n",
    "        float: prédiction en échelle originale\n",
    "    \"\"\"\n",
    "    # 1️⃣ Construire DataFrame à partir de la séquence\n",
    "    if isinstance(seq_rows, list):\n",
    "        df_seq = pd.DataFrame(seq_rows, columns=feature_columns)\n",
    "    elif isinstance(seq_rows, pd.Series):\n",
    "        df_seq = pd.DataFrame([seq_rows], columns=feature_columns)\n",
    "    else:\n",
    "        df_seq = seq_rows.copy()\n",
    "\n",
    "    # 2️⃣ Supprimer colonne timestamp si présente\n",
    "    if \"timestamp\" in df_seq.columns:\n",
    "        df_seq = df_seq.drop(columns=[\"timestamp\"])\n",
    "\n",
    "    # 3️⃣ Appliquer la sélection de features\n",
    "    X_new = selector.transform(df_seq)\n",
    "\n",
    "    # 4️⃣ Normaliser\n",
    "    X_new_scaled = scaler_X.transform(X_new)\n",
    "\n",
    "    # 5️⃣ Convertir en tenseur avec bonne forme (batch=1, seq_len, input_dim)\n",
    "    X_tensor = torch.tensor(X_new_scaled, dtype=torch.float32).unsqueeze(0).to(device)\n",
    "\n",
    "    # 6️⃣ Prédiction\n",
    "    model.eval()\n",
    "    with torch.no_grad():\n",
    "        pred_scaled = model(X_tensor)\n",
    "        pred = scaler_y.inverse_transform(pred_scaled.cpu().numpy())\n",
    "\n",
    "    return float(pred[0][0])\n",
    "\n",
    "\n",
    "seq_len = 5\n",
    "seq_input = predict_df.iloc[0:seq_len].drop(columns=[\"label\"])  # lignes 0 à 4\n",
    "variation = predict_new_row(seq_input, model, selector, scaler, y_scaler, X.columns, device)\n",
    "print(\"Prédiction:\", variation)"
   ]
  },
  {
   "cell_type": "code",
   "execution_count": null,
   "id": "31f14b23",
   "metadata": {
    "id": "ODqHQRJTlY9w",
    "papermill": {
     "duration": 0.006927,
     "end_time": "2025-09-19T12:45:18.564448",
     "exception": false,
     "start_time": "2025-09-19T12:45:18.557521",
     "status": "completed"
    },
    "tags": []
   },
   "outputs": [],
   "source": []
  },
  {
   "cell_type": "code",
   "execution_count": 14,
   "id": "6aff25fe",
   "metadata": {
    "execution": {
     "iopub.execute_input": "2025-09-19T12:45:18.579332Z",
     "iopub.status.busy": "2025-09-19T12:45:18.579070Z",
     "iopub.status.idle": "2025-09-19T12:45:18.583619Z",
     "shell.execute_reply": "2025-09-19T12:45:18.583109Z"
    },
    "id": "odshoFIBS5L7",
    "outputId": "82303899-415a-49cc-863d-e89bb2b0fe07",
    "papermill": {
     "duration": 0.013116,
     "end_time": "2025-09-19T12:45:18.584644",
     "exception": false,
     "start_time": "2025-09-19T12:45:18.571528",
     "status": "completed"
    },
    "tags": []
   },
   "outputs": [
    {
     "data": {
      "text/plain": [
       "Index(['open', 'high', 'low', 'close', 'volume', 'ADX', '+DI', '-DI', 'ATR14',\n",
       "       'BB_width', 'BB_pctB', 'RSI14', 'StochK', 'StochD', 'MACD',\n",
       "       'MACD_signal', 'ROC', 'OBV', 'Vol_zscore', 'log_ret',\n",
       "       'close_open_ratio', 'high_low_spread', 'hour', 'dayofweek', 'label',\n",
       "       'open_lag1', 'open_lag2', 'open_lag3', 'open_lag4', 'open_lag5',\n",
       "       'open_lag6', 'open_lag7', 'open_lag8', 'open_lag9', 'open_lag10',\n",
       "       'high_lag1', 'high_lag2', 'high_lag3', 'high_lag4', 'high_lag5',\n",
       "       'high_lag6', 'high_lag7', 'high_lag8', 'high_lag9', 'high_lag10',\n",
       "       'low_lag1', 'low_lag2', 'low_lag3', 'low_lag4', 'low_lag5', 'low_lag6',\n",
       "       'low_lag7', 'low_lag8', 'low_lag9', 'low_lag10', 'close_lag1',\n",
       "       'close_lag2', 'close_lag3', 'close_lag4', 'close_lag5', 'close_lag6',\n",
       "       'close_lag7', 'close_lag8', 'close_lag9', 'close_lag10', 'volume_lag1',\n",
       "       'volume_lag2', 'volume_lag3', 'volume_lag4', 'volume_lag5',\n",
       "       'volume_lag6', 'volume_lag7', 'volume_lag8', 'volume_lag9',\n",
       "       'volume_lag10', 'ATR14_lag1', 'ATR14_lag2', 'ATR14_lag3', 'ATR14_lag4',\n",
       "       'ATR14_lag5', 'ATR14_lag6', 'ATR14_lag7', 'ATR14_lag8', 'ATR14_lag9',\n",
       "       'ATR14_lag10', 'MACD_lag1', 'MACD_lag2', 'MACD_lag3', 'MACD_lag4',\n",
       "       'MACD_lag5', 'MACD_lag6', 'MACD_lag7', 'MACD_lag8', 'MACD_lag9',\n",
       "       'MACD_lag10'],\n",
       "      dtype='object')"
      ]
     },
     "execution_count": 14,
     "metadata": {},
     "output_type": "execute_result"
    }
   ],
   "source": [
    "df.columns"
   ]
  },
  {
   "cell_type": "code",
   "execution_count": 15,
   "id": "39f01a76",
   "metadata": {
    "execution": {
     "iopub.execute_input": "2025-09-19T12:45:18.600006Z",
     "iopub.status.busy": "2025-09-19T12:45:18.599780Z",
     "iopub.status.idle": "2025-09-19T12:45:20.158072Z",
     "shell.execute_reply": "2025-09-19T12:45:20.157300Z"
    },
    "id": "Kl8Kr0k7MIqS",
    "outputId": "8316f584-78df-4482-e4a1-c4a767d089e1",
    "papermill": {
     "duration": 1.567362,
     "end_time": "2025-09-19T12:45:20.159215",
     "exception": false,
     "start_time": "2025-09-19T12:45:18.591853",
     "status": "completed"
    },
    "tags": []
   },
   "outputs": [
    {
     "name": "stdout",
     "output_type": "stream",
     "text": [
      "Step 8, baisse, prix sortie: 110246.01, solde: 9.89\n",
      "Step 12, monte, prix sortie: 110376.63, solde: 9.90\n",
      "Step 13, monte, prix sortie: 110233.92, solde: 9.90\n",
      "Step 14, monte, prix sortie: 110360.00, solde: 9.90\n",
      "Step 15, monte, prix sortie: 110450.56, solde: 9.92\n",
      "Step 16, monte, prix sortie: 110246.00, solde: 9.91\n",
      "Step 17, monte, prix sortie: 109733.34, solde: 9.84\n",
      "Step 18, monte, prix sortie: 108795.99, solde: 9.71\n",
      "Step 19, monte, prix sortie: 110220.48, solde: 9.75\n",
      "Step 22, monte, prix sortie: 110785.85, solde: 9.70\n",
      "Step 23, monte, prix sortie: 110914.00, solde: 9.71\n",
      "Step 30, monte, prix sortie: 111339.98, solde: 9.72\n",
      "Step 33, baisse, prix sortie: 111054.01, solde: 9.73\n",
      "Step 34, baisse, prix sortie: 111020.68, solde: 9.76\n",
      "Step 35, baisse, prix sortie: 110685.57, solde: 9.79\n",
      "Step 36, baisse, prix sortie: 110724.00, solde: 9.82\n",
      "Step 37, baisse, prix sortie: 111099.88, solde: 9.78\n",
      "Step 38, baisse, prix sortie: 111019.99, solde: 9.76\n",
      "Step 39, baisse, prix sortie: 111312.28, solde: 9.74\n",
      "Step 40, baisse, prix sortie: 111449.99, solde: 9.70\n",
      "Step 41, baisse, prix sortie: 111437.77, solde: 9.69\n",
      "Step 42, baisse, prix sortie: 111112.00, solde: 9.72\n",
      "Step 43, baisse, prix sortie: 111475.07, solde: 9.71\n",
      "Step 44, baisse, prix sortie: 112261.37, solde: 9.61\n",
      "Step 45, baisse, prix sortie: 112222.74, solde: 9.55\n",
      "Step 46, baisse, prix sortie: 111810.98, solde: 9.59\n",
      "Step 57, baisse, prix sortie: 111149.64, solde: 9.66\n",
      "Step 58, baisse, prix sortie: 110917.45, solde: 9.70\n",
      "Step 59, baisse, prix sortie: 110653.07, solde: 9.75\n",
      "Step 60, baisse, prix sortie: 110393.95, solde: 9.79\n",
      "Step 61, baisse, prix sortie: 110463.36, solde: 9.81\n",
      "Step 74, monte, prix sortie: 112303.87, solde: 9.75\n",
      "Step 75, monte, prix sortie: 112256.36, solde: 9.72\n",
      "Step 76, monte, prix sortie: 112354.00, solde: 9.73\n",
      "Step 77, monte, prix sortie: 112783.96, solde: 9.77\n",
      "Step 100, monte, prix sortie: 110228.00, solde: 9.77\n",
      "Step 109, baisse, prix sortie: 110629.15, solde: 9.76\n",
      "Step 110, baisse, prix sortie: 110557.76, solde: 9.77\n",
      "Step 111, baisse, prix sortie: 110649.44, solde: 9.77\n",
      "Step 112, baisse, prix sortie: 110504.15, solde: 9.77\n",
      "Step 113, baisse, prix sortie: 110753.42, solde: 9.76\n",
      "Step 114, monte, prix sortie: 111134.33, solde: 9.82\n",
      "Step 115, monte, prix sortie: 111115.98, solde: 9.85\n",
      "Step 116, monte, prix sortie: 111225.02, solde: 9.86\n",
      "Step 117, monte, prix sortie: 111292.13, solde: 9.88\n",
      "Step 118, monte, prix sortie: 111115.92, solde: 9.87\n",
      "Step 119, monte, prix sortie: 111214.62, solde: 9.86\n",
      "Step 120, monte, prix sortie: 111145.59, solde: 9.87\n",
      "Step 121, monte, prix sortie: 111053.76, solde: 9.85\n",
      "Step 122, monte, prix sortie: 111259.99, solde: 9.88\n",
      "Step 131, monte, prix sortie: 110979.35, solde: 9.86\n",
      "Step 132, monte, prix sortie: 111027.16, solde: 9.85\n",
      "Step 133, monte, prix sortie: 111113.26, solde: 9.87\n",
      "Step 137, baisse, prix sortie: 111906.55, solde: 9.88\n",
      "Step 138, baisse, prix sortie: 112645.05, solde: 9.82\n",
      "Step 139, monte, prix sortie: 112482.91, solde: 9.87\n",
      "Step 140, monte, prix sortie: 112398.00, solde: 9.85\n",
      "Step 141, monte, prix sortie: 112214.40, solde: 9.82\n",
      "Step 142, monte, prix sortie: 112477.01, solde: 9.82\n",
      "Step 143, monte, prix sortie: 112097.31, solde: 9.81\n",
      "Step 144, monte, prix sortie: 111958.04, solde: 9.77\n",
      "Step 145, monte, prix sortie: 112326.45, solde: 9.79\n",
      "Step 150, baisse, prix sortie: 111330.71, solde: 9.82\n",
      "Step 154, baisse, prix sortie: 111311.87, solde: 9.94\n",
      "Step 155, baisse, prix sortie: 111545.88, solde: 9.89\n",
      "Step 161, monte, prix sortie: 112274.29, solde: 9.87\n",
      "Step 162, monte, prix sortie: 112270.01, solde: 9.86\n",
      "Step 163, monte, prix sortie: 112299.99, solde: 9.86\n",
      "Step 164, monte, prix sortie: 113051.61, solde: 9.93\n",
      "Step 165, monte, prix sortie: 113853.99, solde: 9.92\n",
      "Step 166, monte, prix sortie: 113759.89, solde: 9.91\n",
      "Step 167, monte, prix sortie: 113738.01, solde: 9.90\n",
      "Step 168, monte, prix sortie: 113584.85, solde: 9.88\n",
      "Step 169, monte, prix sortie: 113574.52, solde: 9.87\n",
      "Step 170, monte, prix sortie: 113566.39, solde: 9.87\n",
      "Step 171, monte, prix sortie: 113842.53, solde: 9.89\n",
      "Step 172, monte, prix sortie: 113881.20, solde: 9.92\n",
      "Step 173, monte, prix sortie: 113960.00, solde: 9.93\n",
      "Step 174, monte, prix sortie: 113885.70, solde: 9.93\n",
      "Step 175, monte, prix sortie: 113903.23, solde: 9.92\n",
      "Step 176, monte, prix sortie: 113819.02, solde: 9.92\n",
      "Step 188, monte, prix sortie: 114499.69, solde: 9.96\n",
      "Step 189, monte, prix sortie: 114180.31, solde: 9.92\n",
      "Step 190, monte, prix sortie: 114487.53, solde: 9.93\n",
      "Step 191, monte, prix sortie: 114589.84, solde: 9.96\n",
      "Step 198, monte, prix sortie: 115897.73, solde: 10.03\n",
      "Step 199, monte, prix sortie: 115377.29, solde: 10.02\n",
      "Step 200, monte, prix sortie: 115391.00, solde: 9.98\n",
      "Step 201, monte, prix sortie: 115194.14, solde: 9.97\n",
      "Step 202, monte, prix sortie: 115359.99, solde: 9.97\n",
      "Step 203, monte, prix sortie: 115612.84, solde: 10.00\n",
      "Step 204, monte, prix sortie: 115318.00, solde: 10.00\n",
      "Step 205, monte, prix sortie: 115086.70, solde: 9.95\n",
      "Step 206, monte, prix sortie: 115048.00, solde: 9.93\n",
      "Step 207, monte, prix sortie: 115048.01, solde: 9.93\n",
      "Step 208, monte, prix sortie: 114980.85, solde: 9.92\n",
      "Step 209, monte, prix sortie: 114913.45, solde: 9.91\n",
      "Step 219, baisse, prix sortie: 115969.10, solde: 9.96\n",
      "Step 221, monte, prix sortie: 116029.42, solde: 9.98\n",
      "Step 222, monte, prix sortie: 116209.32, solde: 9.99\n",
      "Step 223, monte, prix sortie: 115764.30, solde: 9.97\n",
      "Step 224, monte, prix sortie: 115886.17, solde: 9.94\n",
      "Step 225, monte, prix sortie: 115957.00, solde: 9.96\n",
      "Step 226, monte, prix sortie: 115698.40, solde: 9.94\n",
      "Step 227, monte, prix sortie: 115704.04, solde: 9.92\n",
      "Step 230, baisse, prix sortie: 115978.01, solde: 9.90\n",
      "Step 239, baisse, prix sortie: 115302.22, solde: 9.94\n",
      "Step 240, baisse, prix sortie: 115871.58, solde: 9.90\n",
      "Step 243, baisse, prix sortie: 115962.93, solde: 9.89\n",
      "Step 244, baisse, prix sortie: 115852.95, solde: 9.90\n",
      "Step 259, monte, prix sortie: 115557.65, solde: 9.93\n",
      "Step 270, baisse, prix sortie: 116058.01, solde: 9.87\n",
      "Step 271, baisse, prix sortie: 116520.00, solde: 9.78\n",
      "Step 272, baisse, prix sortie: 116129.99, solde: 9.77\n",
      "Step 273, baisse, prix sortie: 115806.62, solde: 9.83\n",
      "Step 274, baisse, prix sortie: 115199.77, solde: 9.91\n",
      "Step 279, monte, prix sortie: 114664.08, solde: 9.87\n",
      "Step 280, monte, prix sortie: 114679.56, solde: 9.87\n",
      "Step 281, monte, prix sortie: 114842.90, solde: 9.89\n",
      "Step 282, monte, prix sortie: 114662.57, solde: 9.88\n",
      "Step 283, monte, prix sortie: 115120.03, solde: 9.91\n",
      "Step 297, monte, prix sortie: 115840.00, solde: 9.90\n",
      "Step 298, monte, prix sortie: 115658.76, solde: 9.89\n",
      "Step 299, monte, prix sortie: 115477.27, solde: 9.86\n",
      "Step 300, monte, prix sortie: 115372.46, solde: 9.84\n",
      "Step 301, monte, prix sortie: 115287.83, solde: 9.82\n",
      "Step 302, monte, prix sortie: 115439.36, solde: 9.82\n"
     ]
    }
   ],
   "source": [
    "t = 0\n",
    "wallet = 10\n",
    "lever = 1\n",
    "fee_rate = 0.0004  # frais Binance typique\n",
    "seq_len = 5\n",
    "safety_pct = 0.5 / 100  # % de sécurité relatif à la variation prédite\n",
    "\n",
    "for i in range(len(predict_df) - seq_len):\n",
    "    seq_input = predict_df.iloc[i:i+seq_len].drop(columns=[\"label\"])\n",
    "    variation = predict_new_row(seq_input, model, selector, scaler, y_scaler, X.columns, device)\n",
    "\n",
    "    if abs(variation) > 0.004:\n",
    "        t += 1\n",
    "        str_variation = \"baisse\" if variation < 0 else \"monte\"\n",
    "\n",
    "        price_open = float(predict_df.iloc[i + seq_len - 1]['open'])\n",
    "        price_next_close = float(predict_df.iloc[i + seq_len]['close'])\n",
    "        price_high = float(predict_df.iloc[i + seq_len]['high'])\n",
    "        price_low = float(predict_df.iloc[i + seq_len]['low'])\n",
    "\n",
    "        # Écart attendu selon la variation\n",
    "        expected_move = price_open * variation\n",
    "        security = abs(expected_move) * safety_pct\n",
    "\n",
    "        if variation > 0:\n",
    "            target_price = price_open + expected_move - security\n",
    "            # Vérifier si le target est atteint dans le High\n",
    "            exit_price = min(target_price, price_high)\n",
    "            if exit_price < target_price:\n",
    "                exit_price = price_next_close\n",
    "        else:\n",
    "            target_price = price_open + expected_move + security\n",
    "            exit_price = max(target_price, price_low)\n",
    "            if exit_price > target_price:\n",
    "                exit_price = price_next_close\n",
    "\n",
    "        # Calcul LONG\n",
    "        if variation > 0:\n",
    "            position = wallet * lever\n",
    "            borrowed = wallet * (lever - 1)\n",
    "            units = position / price_open\n",
    "            wallet = (units * exit_price) - borrowed\n",
    "\n",
    "        # Calcul SHORT\n",
    "        else:\n",
    "            position = wallet * lever\n",
    "            borrowed = wallet * (lever - 1)\n",
    "            units = position / price_open\n",
    "            sell_proceeds = units * price_open\n",
    "            buy_back = units * exit_price\n",
    "            wallet = wallet + sell_proceeds - buy_back - borrowed\n",
    "\n",
    "        print(f\"Step {i}, {str_variation}, prix sortie: {exit_price:.2f}, solde: {wallet:.2f}\")\n"
   ]
  },
  {
   "cell_type": "code",
   "execution_count": 16,
   "id": "ffce5593",
   "metadata": {
    "execution": {
     "iopub.execute_input": "2025-09-19T12:45:20.176561Z",
     "iopub.status.busy": "2025-09-19T12:45:20.176339Z",
     "iopub.status.idle": "2025-09-19T12:45:20.179836Z",
     "shell.execute_reply": "2025-09-19T12:45:20.179308Z"
    },
    "id": "SLNIu20NM0t6",
    "outputId": "994453fb-2208-4521-f632-f22d0be0c494",
    "papermill": {
     "duration": 0.013111,
     "end_time": "2025-09-19T12:45:20.180862",
     "exception": false,
     "start_time": "2025-09-19T12:45:20.167751",
     "status": "completed"
    },
    "tags": []
   },
   "outputs": [],
   "source": [
    "del model, X_train_tensor, y_train_tensor, X_test_tensor, y_test_tensor"
   ]
  },
  {
   "cell_type": "markdown",
   "id": "2d7904b4",
   "metadata": {
    "id": "P7YODgujgJFw",
    "papermill": {
     "duration": 0.007917,
     "end_time": "2025-09-19T12:45:20.196789",
     "exception": false,
     "start_time": "2025-09-19T12:45:20.188872",
     "status": "completed"
    },
    "tags": []
   },
   "source": []
  },
  {
   "cell_type": "code",
   "execution_count": 17,
   "id": "99731059",
   "metadata": {
    "execution": {
     "iopub.execute_input": "2025-09-19T12:45:20.213212Z",
     "iopub.status.busy": "2025-09-19T12:45:20.213026Z",
     "iopub.status.idle": "2025-09-19T12:45:20.375925Z",
     "shell.execute_reply": "2025-09-19T12:45:20.375158Z"
    },
    "id": "f8sjtHWUabn5",
    "outputId": "28ad899f-69cd-4ead-db87-9fa7333891be",
    "papermill": {
     "duration": 0.172432,
     "end_time": "2025-09-19T12:45:20.377091",
     "exception": false,
     "start_time": "2025-09-19T12:45:20.204659",
     "status": "completed"
    },
    "tags": []
   },
   "outputs": [
    {
     "data": {
      "text/plain": [
       "0"
      ]
     },
     "execution_count": 17,
     "metadata": {},
     "output_type": "execute_result"
    }
   ],
   "source": [
    "import gc\n",
    "gc.collect()"
   ]
  },
  {
   "cell_type": "code",
   "execution_count": 18,
   "id": "87f5f4bc",
   "metadata": {
    "execution": {
     "iopub.execute_input": "2025-09-19T12:45:20.395459Z",
     "iopub.status.busy": "2025-09-19T12:45:20.395200Z",
     "iopub.status.idle": "2025-09-19T12:45:20.425033Z",
     "shell.execute_reply": "2025-09-19T12:45:20.424519Z"
    },
    "id": "xRkVsGrXaf3i",
    "papermill": {
     "duration": 0.040056,
     "end_time": "2025-09-19T12:45:20.426108",
     "exception": false,
     "start_time": "2025-09-19T12:45:20.386052",
     "status": "completed"
    },
    "tags": []
   },
   "outputs": [],
   "source": [
    "import torch\n",
    "torch.cuda.empty_cache()"
   ]
  },
  {
   "cell_type": "code",
   "execution_count": 19,
   "id": "8136a366",
   "metadata": {
    "execution": {
     "iopub.execute_input": "2025-09-19T12:45:20.443328Z",
     "iopub.status.busy": "2025-09-19T12:45:20.443069Z",
     "iopub.status.idle": "2025-09-19T12:45:20.447624Z",
     "shell.execute_reply": "2025-09-19T12:45:20.446993Z"
    },
    "id": "gacnE5lOaiTZ",
    "outputId": "99606fd3-e0f4-43fe-80ae-9d5fc05dd239",
    "papermill": {
     "duration": 0.014307,
     "end_time": "2025-09-19T12:45:20.448656",
     "exception": false,
     "start_time": "2025-09-19T12:45:20.434349",
     "status": "completed"
    },
    "tags": []
   },
   "outputs": [
    {
     "name": "stdout",
     "output_type": "stream",
     "text": [
      "149.181640625 MB\n",
      "194.0 MB\n"
     ]
    }
   ],
   "source": [
    "print(torch.cuda.memory_allocated() / 1024**2, \"MB\")\n",
    "print(torch.cuda.memory_reserved() / 1024**2, \"MB\")"
   ]
  },
  {
   "cell_type": "code",
   "execution_count": null,
   "id": "b5910174",
   "metadata": {
    "id": "kF0XUOqXalHI",
    "papermill": {
     "duration": 0.007973,
     "end_time": "2025-09-19T12:45:20.464818",
     "exception": false,
     "start_time": "2025-09-19T12:45:20.456845",
     "status": "completed"
    },
    "tags": []
   },
   "outputs": [],
   "source": []
  }
 ],
 "metadata": {
  "accelerator": "GPU",
  "colab": {
   "authorship_tag": "ABX9TyNXLcSoxJk33eSiO+RLspVc",
   "gpuType": "T4",
   "include_colab_link": true,
   "provenance": []
  },
  "kaggle": {
   "accelerator": "gpu",
   "dataSources": [],
   "dockerImageVersionId": 31090,
   "isGpuEnabled": true,
   "isInternetEnabled": true,
   "language": "python",
   "sourceType": "notebook"
  },
  "kernelspec": {
   "display_name": "Python 3",
   "language": "python",
   "name": "python3"
  },
  "language_info": {
   "codemirror_mode": {
    "name": "ipython",
    "version": 3
   },
   "file_extension": ".py",
   "mimetype": "text/x-python",
   "name": "python",
   "nbconvert_exporter": "python",
   "pygments_lexer": "ipython3",
   "version": "3.11.13"
  },
  "papermill": {
   "default_parameters": {},
   "duration": 137.148239,
   "end_time": "2025-09-19T12:45:22.193129",
   "environment_variables": {},
   "exception": null,
   "input_path": "__notebook__.ipynb",
   "output_path": "__notebook__.ipynb",
   "parameters": {},
   "start_time": "2025-09-19T12:43:05.044890",
   "version": "2.6.0"
  }
 },
 "nbformat": 4,
 "nbformat_minor": 5
}
